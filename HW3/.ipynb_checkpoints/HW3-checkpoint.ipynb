{
 "cells": [
  {
   "cell_type": "code",
   "execution_count": null,
   "metadata": {
    "colab": {},
    "colab_type": "code",
    "id": "sZhMXtsf8qZx"
   },
   "outputs": [],
   "source": [
    "import matplotlib.pyplot as plt\n",
    "import numpy as np\n",
    "from mpl_toolkits.mplot3d import Axes3D\n",
    "import subprocess as sp"
   ]
  },
  {
   "cell_type": "code",
   "execution_count": 6,
   "metadata": {
    "colab": {},
    "colab_type": "code",
    "id": "CPmjE7JR8uFM"
   },
   "outputs": [],
   "source": [
    "yupper,ylower = 1,0 # Setting up gridspace and parameters\n",
    "xupper,xlower = 1,0\n",
    "del_x, del_y = 0.01,0.01\n",
    "k_constant = 1/(4*np.pi*8.854*10**-12) # A physical constant I use\n",
    "del_t = 0.001 # delta time\n",
    "tupper, tlower = 10,0 \n",
    "timearray =  np.linspace(tlower,tupper,num=int((tupper-tlower)/del_t)+1)\n",
    "ro = 10**-9\n",
    "b_fixed = np.pi*ro*del_x*del_y*k_constant # a constant I use\n",
    "\n",
    "\n",
    "xcoords = np.linspace(xlower,xupper,num=int((xupper-xlower)/del_x)+1)\n",
    "ycoords = np.linspace(ylower,yupper,num=int((yupper-ylower)/del_y)+1)\n",
    "# print(timearray)"
   ]
  },
  {
   "cell_type": "code",
   "execution_count": 7,
   "metadata": {
    "colab": {},
    "colab_type": "code",
    "id": "ZrOXyCSE98G2"
   },
   "outputs": [],
   "source": [
    "# initializing stuff\n",
    "\n",
    "V = np.empty([int((xupper-xlower)/del_x)+1,int((yupper-ylower)/del_y)+1])\n",
    "\n",
    "for i in range(len(xcoords)):\n",
    "  for j in range(len(ycoords)):\n",
    "    if i==0 or i==len(xcoords)-1 or j==0 or j==len(ycoords)-1:\n",
    "      V[i][j]=0\n",
    "    else:\n",
    "      V[i][j]=1\n",
    "\n",
    "# print(V[:][:])\n",
    "\n",
    "Vtemp=V"
   ]
  },
  {
   "cell_type": "code",
   "execution_count": null,
   "metadata": {
    "colab": {
     "base_uri": "https://localhost:8080/",
     "height": 1000
    },
    "colab_type": "code",
    "id": "P7kfxEkGBOZn",
    "outputId": "050c9371-4a4b-475b-cc5d-9209f8b6b180"
   },
   "outputs": [
    {
     "data": {
      "image/png": "[encoded data removed]",
      "text/plain": [
       "<Figure size 432x288 with 2 Axes>"
      ]
     },
     "metadata": {},
     "output_type": "display_data"
    }
   ],
   "source": [
    "# timearray[0] = V\n",
    "\n",
    "average = V[int((len(xcoords)-1)/2)][int((len(ycoords)-1)/2)]\n",
    "string=\"V$_{Center}$ (\"+str(timearray[0])[0:5]+\")=\"+str(average)[0:5]+\" V\"\n",
    "\n",
    "fig, ax = plt.subplots()\n",
    "\n",
    "c = ax.pcolormesh(xcoords, ycoords, V, cmap='RdBu')\n",
    "ax.set_title(string)\n",
    "# set the limits of the plot to the limits of the data\n",
    "ax.axis([xcoords.min(), xcoords.max(), ycoords.min(), ycoords.max()])\n",
    "fig.colorbar(c, ax=ax)\n",
    "plt.pause(del_t)\n",
    "plt.clf()\n",
    "\n",
    "for t in range (1,len(timearray)):\n",
    "  for i in range(1,len(xcoords)-1): # calculate everything\n",
    "    for j in range(1,len(ycoords)-1):\n",
    "      V[i][j] = ((Vtemp[i-1][j]+Vtemp[i+1][j]+Vtemp[i][j+1]+Vtemp[i][j-1])/4)+b_fixed\n",
    "  Vtemp = V\n",
    "#   timearray[t]=V[i][j]\n",
    "#   print(\"Cooking for\",timearray[t],\"s\")\n",
    "  '''\n",
    "\n",
    "  average = V[int((len(xcoords)-1)/2)][int((len(ycoords)-1)/2)]\n",
    "  string=\"V$_{Center}$ (\"+str(timearray[t])[0:5]+\")=\"+str(average)[0:5]+\" V\"\n",
    "  \n",
    "  fig, ax = plt.subplots()\n",
    "\n",
    "  c = ax.pcolormesh(xcoords, ycoords, V, cmap='RdBu')\n",
    "  ax.set_title(string)\n",
    "  # set the limits of the plot to the limits of the data\n",
    "  ax.axis([xcoords.min(), xcoords.max(), ycoords.min(), ycoords.max()])\n",
    "  fig.colorbar(c, ax=ax)\n",
    "  plt.pause(del_t)\n",
    "  '''\n",
    "#   sp.call('cls',shell=True)"
   ]
  },
  {
   "cell_type": "code",
   "execution_count": null,
   "metadata": {
    "colab": {
     "base_uri": "https://localhost:8080/",
     "height": 283
    },
    "colab_type": "code",
    "id": "KL8nwExLHwxh",
    "outputId": "ba702fd4-630f-45d1-bf65-24b54e290e1e"
   },
   "outputs": [],
   "source": [
    "average = V[int((len(xcoords)-1)/2)][int((len(ycoords)-1)/2)]\n",
    "string=\"V$_{Center}$ (\"+str(timearray[t])[0:5]+\")=\"+str(average)[0:5]+\" V\"\n",
    "\n",
    "fig, ax = plt.subplots()\n",
    "\n",
    "c = ax.pcolormesh(xcoords, ycoords, V, cmap='Seismic')\n",
    "ax.set_title(string)\n",
    "# set the limits of the plot to the limits of the data\n",
    "ax.axis([xcoords.min(), xcoords.max(), ycoords.min(), ycoords.max()])\n",
    "fig.colorbar(c, ax=ax)\n",
    "# plt.pause(del_t)\n",
    "\n",
    "fig.savefig(\"FinalTimeVGraph.png\",dpi=300)\n",
    "\n",
    "plt.show()"
   ]
  },
  {
   "cell_type": "code",
   "execution_count": null,
   "metadata": {
    "colab": {},
    "colab_type": "code",
    "id": "ovqpMSA2kMoU"
   },
   "outputs": [],
   "source": []
  },
  {
   "cell_type": "code",
   "execution_count": null,
   "metadata": {
    "colab": {},
    "colab_type": "code",
    "id": "B_oVJzGHkOtG"
   },
   "outputs": [],
   "source": []
  }
 ],
 "metadata": {
  "colab": {
   "collapsed_sections": [],
   "name": "HW3",
   "provenance": []
  },
  "kernelspec": {
   "display_name": "Python 3",
   "language": "python",
   "name": "python3"
  },
  "language_info": {
   "codemirror_mode": {
    "name": "ipython",
    "version": 3
   },
   "file_extension": ".py",
   "mimetype": "text/x-python",
   "name": "python",
   "nbconvert_exporter": "python",
   "pygments_lexer": "ipython3",
   "version": "3.6.4"
  }
 },
 "nbformat": 4,
 "nbformat_minor": 1
}
